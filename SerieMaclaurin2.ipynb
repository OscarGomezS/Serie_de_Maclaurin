{
 "cells": [
  {
   "cell_type": "markdown",
   "metadata": {
    "slideshow": {
     "slide_type": "slide"
    }
   },
   "source": [
    "<div align=\"center\">\n",
    "    <img src='Image/LOGOUIS.jpg'/>\n",
    "    <h1><strong>Serie de Maclaurin</strong></h1>\n",
    "    <h2>Óscar Alfonso Gómez Sepúlveda</h2>\n",
    "    <h3>2198577</h3>\n",
    "</div>\n",
    "\n",
    "<div align=\"center\">\n",
    "    Encontrar el número de términos para lograr un error del 1% para la serie de $ e^x $\n",
    "</div>"
   ]
  },
  {
   "cell_type": "markdown",
   "metadata": {},
   "source": [
    "<div align=\"center\">\n",
    "    La Serie de Maclaurin para resolver $ e^x $, presenta su ecuación general que permite generalizar el cálculo\n",
    "</div>"
   ]
  },
  {
   "cell_type": "markdown",
   "metadata": {},
   "source": [
    "<div align=\"center\">\n",
    "    La Serie de Maclaurin presenta su ecuación general que permite generalizar el cálculo, la cual es la siguiente:\n",
    "</div>"
   ]
  },
  {
   "cell_type": "markdown",
   "metadata": {
    "slideshow": {
     "slide_type": "slide"
    }
   },
   "source": [
    "<div align=\"center\">\n",
    "    <h3>\n",
    "        $$\n",
    "        \\begin{equation} e^x = \\sum_{n=0}^{+\\infty}  \\frac{x^n}{n!} \\; \\forall x \\in \\mathbb{R}\n",
    "        \\end{equation}\n",
    "        $$\n",
    "    </h3>\n",
    "</div>"
   ]
  },
  {
   "cell_type": "markdown",
   "metadata": {},
   "source": [
    "<div align=\"center\">\n",
    "    <h3>Código en Python 3.7</h3>\n",
    "</div>\n",
    "\n",
    "## ¿Cómo se hace?...\n",
    "\n",
    "1. Vamos a importar las librerías que se van a utilizar:"
   ]
  },
  {
   "cell_type": "code",
   "execution_count": 1,
   "metadata": {},
   "outputs": [],
   "source": [
    "%matplotlib inline\n",
    "import math\n",
    "import numpy as np\n",
    "import ipywidgets as widgets\n",
    "from ipywidgets import interact, interactive\n",
    "from IPython.display import clear_output\n",
    "import matplotlib.pyplot as plt\n",
    "from matplotlib.pyplot import figure\n",
    "import tikzplotlib"
   ]
  },
  {
   "cell_type": "markdown",
   "metadata": {},
   "source": [
    "2. Definimos los elementos interactivos de entrada de datos:"
   ]
  },
  {
   "cell_type": "code",
   "execution_count": 2,
   "metadata": {},
   "outputs": [],
   "source": [
    "errorDes = widgets.BoundedFloatText(value=0.01, min=0, max=0.1, step=0.01, description='Error:', disabled=False)\n",
    "xx = widgets.IntSlider(min=0, max=30, step=1, value=2)"
   ]
  },
  {
   "cell_type": "markdown",
   "metadata": {},
   "source": [
    "3. Se crea la función principal donde se evalúa el ciclo para determinar el número de términos aplicando la siguiente ecuación"
   ]
  },
  {
   "cell_type": "markdown",
   "metadata": {},
   "source": [
    "<div align=\"center\">\n",
    "    <h3>\n",
    "        $$\n",
    "        \\begin{equation} \n",
    "        \\epsilon = \\frac{Valor Verdadero - Valor Estimado}{Valor Verdadero}\n",
    "        \\end{equation}\n",
    "        $$\n",
    "    </h3>\n",
    "</div>"
   ]
  },
  {
   "cell_type": "code",
   "execution_count": 3,
   "metadata": {},
   "outputs": [],
   "source": [
    "global TerV, Xvalue\n",
    "TerV = []\n",
    "Xvalue = []"
   ]
  },
  {
   "cell_type": "code",
   "execution_count": 4,
   "metadata": {},
   "outputs": [],
   "source": [
    "def mainFunc(x, errorDeseado):\n",
    "    n = 0\n",
    "    eulerOld = 0\n",
    "    errorV = []\n",
    "    \n",
    "    eulerExact = math.exp(x)\n",
    "    while n < 1000:\n",
    "        eulerX = ((x**n)/(math.factorial(n))) + eulerOld\n",
    "        \n",
    "        error = abs(eulerExact - eulerX)/eulerExact\n",
    "        errorV.append(error)\n",
    "        eulerOld = eulerX\n",
    "        n = n + 1\n",
    "        \n",
    "        if (errorDeseado > errorV[n-1]) == True:\n",
    "            break\n",
    "    nn = np.zeros(n)\n",
    "    for i in range(1,n):\n",
    "        nn[i] = i\n",
    "\n",
    "    TerV.append(n)\n",
    "    Xvalue.append(x)\n",
    "    \n",
    "    units = 'N° de Términos = {}, Valor de x = {}'\n",
    "\n",
    "    figure(figsize=(13,6))\n",
    "    \n",
    "    plt.subplot(1, 2, 1)\n",
    "    plt.plot(nn, errorV, \"o-\", lw=4.1, label = units.format(n,x))\n",
    "    plt.style.use(\"ggplot\")\n",
    "    plt.legend(loc=1)\n",
    "    plt.title('Error Serie de Maclaurin')\n",
    "    plt.xlabel('Número de Términos')\n",
    "    plt.ylabel('Error')\n",
    "    plt.grid(color='g', linestyle='-', linewidth=0.6)\n",
    "    \n",
    "    plt.subplot(1, 2, 2)\n",
    "    plt.plot(TerV, Xvalue, \"*-\")\n",
    "    plt.style.use(\"ggplot\")\n",
    "    plt.title('Variación de Términos con x')\n",
    "    plt.xlabel('Número de Términos')\n",
    "    plt.ylabel('Valor de x')\n",
    "    plt.grid(color='b', linestyle='-', linewidth=0.6)\n",
    "    \n",
    "    tikzplotlib.save(\"Figure1.tex\")\n",
    "    \n",
    "    plt.show()\n",
    "    \n",
    "    \n",
    "    "
   ]
  },
  {
   "cell_type": "markdown",
   "metadata": {},
   "source": [
    "4. Se evalúa la función interact que permite compilar de manera interactiva el resultado:"
   ]
  },
  {
   "cell_type": "code",
   "execution_count": 5,
   "metadata": {},
   "outputs": [
    {
     "data": {
      "application/vnd.jupyter.widget-view+json": {
       "model_id": "dcbde4a9865e4c35b0d5737f1688c953",
       "version_major": 2,
       "version_minor": 0
      },
      "text/plain": [
       "interactive(children=(IntSlider(value=2, description='x', max=30), BoundedFloatText(value=0.01, description='E…"
      ]
     },
     "metadata": {},
     "output_type": "display_data"
    }
   ],
   "source": [
    "interact(mainFunc, x = xx, errorDeseado = errorDes);"
   ]
  },
  {
   "cell_type": "markdown",
   "metadata": {},
   "source": [
    "5. Se pretende mostrar el comportamiento de dos valores para $x$, para ello, se crea una función que ejecuta el código siguiente:"
   ]
  },
  {
   "cell_type": "code",
   "execution_count": 6,
   "metadata": {},
   "outputs": [],
   "source": [
    "def FuncError(x1, x2, errorDeseado):\n",
    "    n1 = 0\n",
    "    eulerOld1 = 0\n",
    "    errorV1 = []\n",
    "    \n",
    "    n2 = 0\n",
    "    eulerOld2 = 0\n",
    "    errorV2 = []\n",
    "    \n",
    "    eulerExact1 = math.exp(x1)\n",
    "    eulerExact2 = math.exp(x2)\n",
    "    \n",
    "    while n1 < 1000:\n",
    "        eulerX = ((x1**n1)/(math.factorial(n1))) + eulerOld1\n",
    "        \n",
    "        error = abs(eulerExact1 - eulerX)/eulerExact1\n",
    "        errorV1.append(error)\n",
    "        eulerOld1 = eulerX\n",
    "        n1 = n1 + 1\n",
    "        \n",
    "        if (errorDeseado > errorV1[n1-1]) == True:\n",
    "            break\n",
    "    nn1 = np.zeros(n1)\n",
    "    for i in range(1,n1):\n",
    "        nn1[i] = i\n",
    "\n",
    "    while n2 < 1000:\n",
    "        eulerX = ((x2**n2)/(math.factorial(n2))) + eulerOld2\n",
    "        \n",
    "        error = abs(eulerExact2 - eulerX)/eulerExact2\n",
    "        errorV2.append(error)\n",
    "        eulerOld2 = eulerX\n",
    "        n2 = n2 + 1\n",
    "        \n",
    "        if (errorDeseado > errorV2[n2-1]) == True:\n",
    "            break\n",
    "    nn2 = np.zeros(n2)\n",
    "    for i in range(1,n2):\n",
    "        nn2[i] = i\n",
    "    \n",
    "    units = 'N° de Términos = {}, Valor de x = {}'\n",
    "    \n",
    "    figure(figsize=(9,6))\n",
    "    \n",
    "    plt.plot(nn1, errorV1, \"o-\", lw=4.1, label = units.format(n1,x1))\n",
    "    plt.plot(nn2, errorV2, \"x-\", lw=4.1, label = units.format(n2,x2))\n",
    "    plt.style.use(\"ggplot\")\n",
    "    plt.legend(loc=1)\n",
    "    plt.title('Error Serie de Maclaurin')\n",
    "    plt.xlabel('Número de Términos')\n",
    "    plt.ylabel('Error')\n",
    "    plt.grid(color='g', linestyle='-', linewidth=0.6)\n",
    "    \n",
    "    tikzplotlib.save(\"Figure2.tex\")\n",
    "        \n",
    "    plt.show()"
   ]
  },
  {
   "cell_type": "code",
   "execution_count": 7,
   "metadata": {},
   "outputs": [],
   "source": [
    "error = widgets.FloatSlider(value=0.01, min=0, max=0.1, step=0.005, description='Error:', disabled=False)\n",
    "x_e1 = widgets.BoundedFloatText(value=2, min=0, max=30, step=1, description='Valor x1:', disabled=False)\n",
    "x_e2 = widgets.BoundedFloatText(value=10, min=0, max=30, step=1, description='Valor x2:', disabled=False)"
   ]
  },
  {
   "cell_type": "code",
   "execution_count": 8,
   "metadata": {},
   "outputs": [
    {
     "data": {
      "application/vnd.jupyter.widget-view+json": {
       "model_id": "3d3466abe0c34e8bb8aa0b894f5f7fcf",
       "version_major": 2,
       "version_minor": 0
      },
      "text/plain": [
       "interactive(children=(BoundedFloatText(value=2.0, description='Valor x1:', max=30.0, step=1.0), BoundedFloatTe…"
      ]
     },
     "metadata": {},
     "output_type": "display_data"
    }
   ],
   "source": [
    "interact(FuncError, x1 = x_e1, x2 = x_e2, errorDeseado = error);"
   ]
  }
 ],
 "metadata": {
  "kernelspec": {
   "display_name": "Python 3",
   "language": "python",
   "name": "python3"
  },
  "language_info": {
   "codemirror_mode": {
    "name": "ipython",
    "version": 3
   },
   "file_extension": ".py",
   "mimetype": "text/x-python",
   "name": "python",
   "nbconvert_exporter": "python",
   "pygments_lexer": "ipython3",
   "version": "3.7.4"
  }
 },
 "nbformat": 4,
 "nbformat_minor": 4
}
